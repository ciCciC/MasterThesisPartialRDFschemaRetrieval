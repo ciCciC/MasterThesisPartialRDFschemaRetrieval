{
 "cells": [
  {
   "cell_type": "markdown",
   "source": [
    "# Partial RDF Schema Retrieval\n",
    "### Master's Thesis\n",
    "### Author: Koray Poyraz"
   ],
   "metadata": {
    "collapsed": false
   }
  },
  {
   "cell_type": "markdown",
   "source": [
    "# Required Libraries"
   ],
   "metadata": {
    "collapsed": false
   }
  },
  {
   "cell_type": "markdown",
   "source": [
    "Installer of the required libraries"
   ],
   "metadata": {
    "collapsed": false
   }
  },
  {
   "cell_type": "code",
   "execution_count": null,
   "outputs": [],
   "source": [
    "!pip install numpy\n",
    "!pip install pandas\n",
    "!pip install scipy\n",
    "!pip install seaborn\n",
    "!pip install matplotlib\n",
    "!pip install SPARQLWrapper\n",
    "!pip install pyvis\n",
    "!pip install sklearn\n",
    "!pip install umap\n",
    "!pip install hdbscan\n",
    "!pip install dask\n",
    "!pip install simhash"
   ],
   "metadata": {
    "collapsed": false,
    "pycharm": {
     "name": "#%%\n"
    }
   }
  },
  {
   "cell_type": "markdown",
   "source": [
    "Importing the required libraries"
   ],
   "metadata": {
    "collapsed": false
   }
  },
  {
   "cell_type": "code",
   "execution_count": 2,
   "metadata": {
    "collapsed": true
   },
   "outputs": [],
   "source": [
    "import numpy as np\n",
    "import pandas as pd\n",
    "from SPARQLWrapper import SPARQLWrapper, JSON\n",
    "from collections import Counter\n",
    "import seaborn as sns\n",
    "from sklearn.feature_extraction.text import CountVectorizer\n",
    "import hdbscan\n",
    "import time\n",
    "from sklearn.metrics import silhouette_score\n",
    "from scipy.spatial.distance import cosine\n",
    "import umap\n",
    "import dask.dataframe as dd\n",
    "from simhash import Simhash\n",
    "import matplotlib.pyplot as plt"
   ]
  },
  {
   "cell_type": "markdown",
   "source": [
    "## Methods"
   ],
   "metadata": {
    "collapsed": false,
    "pycharm": {
     "name": "#%% md\n"
    }
   }
  },
  {
   "cell_type": "code",
   "execution_count": 3,
   "outputs": [],
   "source": [
    "class Node:\n",
    "    def __init__(self, id, label=None):\n",
    "        \"\"\"\n",
    "        Node structure\n",
    "        :param id: ID of the node\n",
    "        :param label: label of the node\n",
    "        \"\"\"\n",
    "        self.id = id\n",
    "        self.label = label if label else ''\n",
    "        self.class_type = '' #<-- implicit or explicit class type\n",
    "        self.class_overlaps = [] #<-- stores the explicit class type overlaps that represent the same pattern\n",
    "        self.properties = [] #<-- attributes of the node\n",
    "        self.out_edge = [] #<-- outgoing edges of the node\n",
    "        self.in_edge = [] #<-- incoming edges of the node\n",
    "\n",
    "    def __str__(self):\n",
    "        return f\"id={self.id}, label={self.label}, classtype={self.class_type}, classoverlaps={self.class_overlaps}\"\n",
    "\n",
    "    def toJSON(self):\n",
    "        \"\"\"\n",
    "        serialization to JSON\n",
    "        :return: JSON structure\n",
    "        \"\"\"\n",
    "        return json.dumps(self, default=lambda o: o.__dict__,\n",
    "            sort_keys=True, indent=4)\n",
    "\n",
    "\n",
    "class Edge:\n",
    "    def __init__(self, id, to_node, label=None):\n",
    "        \"\"\"\n",
    "        Edge structure\n",
    "        :param id: ID of the edge\n",
    "        :param to_node: relation to Node\n",
    "        :param label: label of the edge\n",
    "        \"\"\"\n",
    "        self.id = id\n",
    "        self.label = label if label else ''\n",
    "        self.to_node = to_node\n",
    "\n",
    "    def __str__(self):\n",
    "        return f\"{self.id} - {self.label} - {self.to_node}\""
   ],
   "metadata": {
    "collapsed": false,
    "pycharm": {
     "name": "#%%\n"
    }
   }
  },
  {
   "cell_type": "code",
   "execution_count": 35,
   "outputs": [],
   "source": [
    "def generate_clusters_s(embeddings, min_cluster_size, distance_metric):\n",
    "    \"\"\"\n",
    "    Computes the HDBSCAN clustering algorithm\n",
    "    :param embeddings: numerical representation\n",
    "    :param min_cluster_size: minimum cluster size\n",
    "    :param distance_metric: distance metric for measuring the distance\n",
    "    :return: clustering solution\n",
    "    \"\"\"\n",
    "    clusterer = hdbscan.HDBSCAN(\n",
    "        cluster_selection_epsilon=0.0,\n",
    "        min_cluster_size=min_cluster_size,\n",
    "        metric=distance_metric,\n",
    "        cluster_selection_method='leaf',\n",
    "        gen_min_span_tree=True,\n",
    "        core_dist_n_jobs=-1\n",
    "    )\n",
    "\n",
    "    clusterer.fit(embeddings)\n",
    "\n",
    "    return clusterer\n",
    "\n",
    "\n",
    "def calculate_DBCV(model):\n",
    "    \"\"\"\n",
    "    Calculates the relative DBCV\n",
    "    :param model: clustering solution\n",
    "    :return: relative validation\n",
    "    \"\"\"\n",
    "    return model.relative_validity_\n",
    "\n",
    "\n",
    "def automatic_model_selection_s(embeddings, distance_metric):\n",
    "    \"\"\"\n",
    "    (5) operation\n",
    "    Computes hyperparameter tuning\n",
    "    :param embeddings: numerical representation\n",
    "    :param distance_metric: distance metric for measuring the distance\n",
    "    :return: best model statistical information, clustering solution with highest DBCV score\n",
    "    \"\"\"\n",
    "    epsilon = 0.0\n",
    "    min_cluster_size = [3, 10, 15, 20]\n",
    "    cluster_model = None\n",
    "    dbcv_score = 0\n",
    "    best_result = None\n",
    "    validity_index = 0\n",
    "\n",
    "    print('-------------- Clustering')\n",
    "    print('Stats: eps, min_cluster_size, dbcv, labels, outliers')\n",
    "    for i, min_cluster in enumerate(min_cluster_size):\n",
    "        clusters = generate_clusters_s(embeddings,\n",
    "                                     min_cluster_size = min_cluster,\n",
    "                                     distance_metric = distance_metric)\n",
    "\n",
    "        label_count = len(np.unique(clusters.labels_))\n",
    "\n",
    "        current_score = calculate_DBCV(clusters)\n",
    "        current_score = 0 if np.isnan(current_score) else current_score\n",
    "\n",
    "        db_score = hdbscan.validity_index(embeddings, clusters.labels_, metric=distance_metric)\n",
    "        db_score = 0 if np.isnan(db_score) else db_score\n",
    "\n",
    "        outliers = len(clusters.labels_[clusters.labels_ == -1])\n",
    "\n",
    "        current_stats = [epsilon, min_cluster, current_score, label_count, outliers, db_score]\n",
    "\n",
    "        if i == 0:\n",
    "            dbcv_score = current_score\n",
    "            cluster_model = clusters\n",
    "            best_result = current_stats\n",
    "            validity_index = db_score\n",
    "        elif dbcv_score < current_score:\n",
    "            dbcv_score = current_score\n",
    "            cluster_model = clusters\n",
    "            best_result = current_stats\n",
    "            validity_index = db_score\n",
    "\n",
    "        print(f'Stats: {[epsilon, min_cluster, current_score, label_count, outliers, validity_index]}')\n",
    "\n",
    "    print('Best Stats: eps, min cluster size, dbcv, labels, outliers')\n",
    "    print(f'Best Stats: {best_result}')\n",
    "\n",
    "    return best_result, cluster_model"
   ],
   "metadata": {
    "collapsed": false,
    "pycharm": {
     "name": "#%%\n"
    }
   }
  },
  {
   "cell_type": "code",
   "execution_count": 2,
   "outputs": [],
   "source": [
    "def get_graph(endpoint, query):\n",
    "    \"\"\"\n",
    "    Query statement executor\n",
    "\n",
    "    :param endpoint: SPARQL-endpoint\n",
    "    :param query: query statement\n",
    "    :return: query result (triples)\n",
    "    \"\"\"\n",
    "    user_agent = \"Mozilla/5.0 (Windows NT 6.1; Win64; x64; rv:47.0) Gecko/20100101 Firefox/47.0\"\n",
    "    sparql = SPARQLWrapper(endpoint, agent=user_agent)\n",
    "    sparql.setQuery(query)\n",
    "    sparql.setReturnFormat(JSON)\n",
    "\n",
    "    # Try catch, to continue retrieving triples when request error occurs\n",
    "    try:\n",
    "        afterQuery = sparql.query()\n",
    "        results = afterQuery.convert()\n",
    "        return [result for result in results[\"results\"][\"bindings\"]]\n",
    "    except Exception as e:\n",
    "        print(f'Request error occurred, but the retrieval process will continue')\n",
    "        return []\n",
    "\n",
    "\n",
    "def get_clean_label(predicate):\n",
    "    \"\"\"\n",
    "    Predicate cleaner\n",
    "\n",
    "    :param predicate: predicate URI\n",
    "    :return: label of the predicate\n",
    "    \"\"\"\n",
    "    label = predicate.split('/')[-1] if 'http' in predicate else predicate\n",
    "    return label.split('#')[-1] if '#' in label else label\n",
    "\n",
    "\n",
    "def is_literal(o_type):\n",
    "    \"\"\"\n",
    "    Checks for literal type\n",
    "\n",
    "    :param o_type: OBJECT component of the triple\n",
    "    :return: boolean\n",
    "    \"\"\"\n",
    "    return 'literal' in o_type.lower()\n",
    "\n",
    "\n",
    "def is_primitive(p):\n",
    "    \"\"\"\n",
    "    Checks for primitive type that refers to a explicit class type\n",
    "\n",
    "    :param p: PREDICATE component of the triple\n",
    "    :return: boolean\n",
    "    \"\"\"\n",
    "    return 'rdf' in p.lower() or 'classoverlap' in p.lower()\n",
    "\n",
    "\n",
    "def is_primitive_type(p):\n",
    "    \"\"\"\n",
    "    Checks for primitive type\n",
    "\n",
    "    :param p: PREDICATE component of the triple\n",
    "    :return: boolean\n",
    "    \"\"\"\n",
    "    property = p.lower()\n",
    "    return 'rdf' in property and 'type' in property\n",
    "\n",
    "\n",
    "def is_primitive_label(p):\n",
    "    \"\"\"\n",
    "    Checks for primitive type label\n",
    "\n",
    "    :param p: PREDICATE component of the triple\n",
    "    :return: boolean\n",
    "    \"\"\"\n",
    "    property = p.lower()\n",
    "    return 'rdf' in property and 'label' in property\n",
    "\n",
    "def is_primitive_subClassOf(p):\n",
    "    \"\"\"\n",
    "    Checks for primitive subClassOf relation\n",
    "\n",
    "    :param p: PREDICATE component of the triple\n",
    "    :return: boolean\n",
    "    \"\"\"\n",
    "    property = p.lower()\n",
    "    return 'rdf' in property and 'subClassOf' in property\n",
    "\n",
    "\n",
    "def annotate_fact(o_type, p):\n",
    "    \"\"\"\n",
    "    (2) operation, step 2. Applies the annotation step\n",
    "\n",
    "    :param o_type: OBJECT component of the triple\n",
    "    :param p: PREDICATE component of the triple\n",
    "    :return: annotated version along with the fact\n",
    "    \"\"\"\n",
    "    new_p = ''\n",
    "    fact_type = ''\n",
    "\n",
    "    if is_literal(o_type) and not is_primitive(p):\n",
    "        new_p = p\n",
    "    elif is_primitive_label(p):\n",
    "        new_p = f'{p}-label'\n",
    "        fact_type = 'label'\n",
    "    elif is_primitive_type(p):\n",
    "        new_p = f'{p}-class'\n",
    "        fact_type = 'class'\n",
    "    else:\n",
    "        new_p = f'{p}-out'\n",
    "        fact_type = 'out'\n",
    "\n",
    "    return new_p, fact_type\n",
    "\n",
    "\n",
    "def get_out_edges(endpoint, class_types, window):\n",
    "    \"\"\"\n",
    "    Retrieval process for retrieving the outgoing triples\n",
    "\n",
    "    :param endpoint: SPARQL-endpoint\n",
    "    :param class_types: batch consisting of explicit class types\n",
    "    :param window: sliding window size\n",
    "    :return: outgoing triples, triple count, class types of the entities, query count\n",
    "    \"\"\"\n",
    "    pointer = 0\n",
    "    # store an entity\n",
    "    triple_batch = {}\n",
    "    # keep track of the related class type of an entity\n",
    "    class_types_of_entities = []\n",
    "    triple_count = 0\n",
    "    num_queries = 0\n",
    "    running = True\n",
    "\n",
    "    # Running the retrieval process until all triples are retrieved\n",
    "    while running:\n",
    "        q = \"select distinct ?c ?s ?p ?o where { \"\n",
    "        q += \"VALUES (?c) { \" + class_types + \" } \"\n",
    "        if window:\n",
    "            q += \"?s a ?c . ?s ?p ?o . } offset \" + str(pointer) + \" limit \" + str(window)\n",
    "        else:\n",
    "            q += \"?s a ?c . ?s ?p ?o . } offset \" + str(pointer)\n",
    "\n",
    "        triples = get_graph(endpoint, q)\n",
    "        L = len(triples)\n",
    "\n",
    "        if L == 0:\n",
    "            # the retrieving process stops when there is no result anymore, meaning all triples are retrieved\n",
    "            running = False\n",
    "            break\n",
    "\n",
    "        num_queries += 1\n",
    "\n",
    "        for triple in triples:\n",
    "            triple_count += 1\n",
    "            c = triple['c']['value']\n",
    "            s = triple['s']['value']\n",
    "            p = triple['p']['value']\n",
    "            o_type = triple['o']['type']\n",
    "            o = triple['o']['value']\n",
    "\n",
    "            if s in triple_batch:\n",
    "                new_p, fact_type = annotate_fact(o_type, p)\n",
    "\n",
    "                if new_p not in triple_batch[s]:\n",
    "                    triple_batch[s].add(new_p)\n",
    "\n",
    "                if fact_type == 'class':\n",
    "                    triple_batch[s].add(f'{o}-classoverlap')\n",
    "\n",
    "            else:\n",
    "                new_p, fact_type = annotate_fact(o_type, p)\n",
    "                triple_batch[s] = {new_p}\n",
    "                class_types_of_entities.append(c)\n",
    "\n",
    "                if fact_type == 'class':\n",
    "                    triple_batch[s].add(f'{o}-classoverlap')\n",
    "\n",
    "        pointer = triple_count\n",
    "\n",
    "    return triple_batch, triple_count, class_types_of_entities, num_queries\n",
    "\n",
    "\n",
    "def get_in_edges(endpoint, triple_batch, class_types, window):\n",
    "    \"\"\"\n",
    "    Retrieval process for retrieving the incoming triples\n",
    "\n",
    "    :param endpoint: SPARQL-endpoint\n",
    "    :param triple_batch: Using the triple batch obtained after retrieving the outgoing triples, so we dont have to create another collection in the memory\n",
    "    :param class_types: batch consisting of explicit class types\n",
    "    :param window: sliding window size\n",
    "    :return: incoming triples, triple count, query count\n",
    "    \"\"\"\n",
    "    pointer = 0\n",
    "    running = True\n",
    "    triple_count = 0\n",
    "    num_queries = 0\n",
    "\n",
    "    while running:\n",
    "        q = \"select distinct ?c ?o ?p ?s where { \"\n",
    "        q += \"VALUES (?c) { \" + class_types + \" } \"\n",
    "        q += \"?o a ?c . ?s ?p ?o . } offset \" + str(pointer) + \" limit \" + str(window)\n",
    "\n",
    "        triples = get_graph(endpoint, q)\n",
    "        L = len(triples)\n",
    "\n",
    "        # in order to exist the execution when no result\n",
    "        if L == 0:\n",
    "            running = False\n",
    "            break\n",
    "\n",
    "        num_queries += 1\n",
    "\n",
    "        for triple in triples:\n",
    "            triple_count += 1\n",
    "            p = triple['p']['value']\n",
    "            entity = triple['o']['value']\n",
    "\n",
    "            if entity in triple_batch:\n",
    "                new_p = f'{p}-in'\n",
    "                if new_p not in triple_batch[entity]:\n",
    "                    triple_batch[entity].add(new_p)\n",
    "\n",
    "        pointer = triple_count\n",
    "\n",
    "    return triple_batch, triple_count, num_queries\n",
    "\n",
    "\n",
    "\n",
    "def retrieve_triples_from_class_layer(endpoint, class_types, window):\n",
    "    \"\"\"\n",
    "    (2) operation, step 1\n",
    "\n",
    "    :param endpoint: SPARQL-endpoint\n",
    "    :param class_types: batch consisting of explicit class types\n",
    "    :param window: sliding window size\n",
    "    :return: entities with outgoing and incoming triples\n",
    "    \"\"\"\n",
    "    # class_uri eg a address of a class type\n",
    "    print('-- Retrieving outgoing edges')\n",
    "    triple_batch_out_edge, out_triple_count, class_types_of_entities, out_num_queries = get_out_edges(endpoint, class_types, window)\n",
    "\n",
    "    print('-- Retrieving ingoing edges')\n",
    "    triple_batch_both_edges, in_triple_count, in_num_queries = get_in_edges(endpoint, triple_batch_out_edge, class_types, window)\n",
    "\n",
    "    total_triple_count = out_triple_count + in_triple_count\n",
    "    total_num_queries = out_num_queries + in_num_queries\n",
    "\n",
    "    return triple_batch_both_edges, total_triple_count, class_types_of_entities, total_num_queries\n",
    "\n",
    "\n",
    "def remove_similar_properties_pair(properties):\n",
    "    \"\"\"\n",
    "    Similar predicate remover. e.g. building and building.out occur, however, they are the same for example in WikiData\n",
    "\n",
    "    :param properties: predicate set\n",
    "    :return: new predicate set, number of removed triples\n",
    "    \"\"\"\n",
    "\n",
    "    new_props = []\n",
    "\n",
    "    for property in properties:\n",
    "        has_out = 'out' in property\n",
    "\n",
    "        if not has_out:\n",
    "            new_props.append(property)\n",
    "            continue\n",
    "\n",
    "        target = property.split('-')[0]\n",
    "        status = target in properties\n",
    "\n",
    "        if status:\n",
    "            continue\n",
    "        else:\n",
    "            new_props.append(property)\n",
    "\n",
    "    # for completeness metrics\n",
    "    removed_triples = len(properties) - len(new_props)\n",
    "\n",
    "    return new_props, removed_triples\n",
    "\n",
    "\n",
    "def discover_patterns_layer(batch):\n",
    "    \"\"\"\n",
    "    (2) operation, step 3 Applying pattern discovery.\n",
    "\n",
    "    :param batch: batch consisting of entities\n",
    "    :return: patterns, primitive types, total removed triples\n",
    "    \"\"\"\n",
    "\n",
    "    patterns = []\n",
    "    primitive = []\n",
    "    total_removed_triples = 0\n",
    "\n",
    "    for entity in batch:\n",
    "        predicates = batch[entity]\n",
    "        cs_u_d = set([get_clean_label(p) for p in predicates if not is_primitive(p)])\n",
    "        cs_u_d, removed_triples = remove_similar_properties_pair(cs_u_d)\n",
    "        total_removed_triples += removed_triples\n",
    "        cs_u_d = sorted(cs_u_d)\n",
    "        cs_u_pattern = tuple(cs_u_d)\n",
    "\n",
    "        cs_p_d = [get_clean_label(p) for p in predicates if is_primitive(p)]\n",
    "        cs_p_d.sort()\n",
    "\n",
    "        patterns.append(cs_u_pattern)\n",
    "        primitive.append(cs_p_d)\n",
    "\n",
    "    return patterns, primitive, total_removed_triples\n",
    "\n",
    "\n",
    "def retrieval_of_class_types(endpoint, window):\n",
    "    \"\"\"\n",
    "    Phase (1), method (1), retrieving the fundamental hierarchical structure\n",
    "\n",
    "    :param endpoint: SPARQL-endpoint\n",
    "    :param window: sliding window size\n",
    "    :return: fundamental hierarchical structure, triple count\n",
    "    \"\"\"\n",
    "    pointer = 0\n",
    "    class_type_map = {}\n",
    "    predicate_visited = set()\n",
    "    triple_count = 0\n",
    "    running = True\n",
    "\n",
    "    while running:\n",
    "\n",
    "        q = \"PREFIX owl: <http://www.w3.org/2002/07/owl#> SELECT DISTINCT ?c ?p ?o WHERE { ?c a owl:Class . ?c ?p ?o . } \"\n",
    "        q += \"offset \" + str(pointer) + \" limit \" + str(window)\n",
    "\n",
    "        triples = get_graph(endpoint, q)\n",
    "\n",
    "        L = len(triples)\n",
    "\n",
    "        if L == 0:\n",
    "            running = False\n",
    "            break\n",
    "\n",
    "        # transformation RDF schema to property graph as initial structure\n",
    "        for triple in triples:\n",
    "            triple_count += 1\n",
    "            c = triple['c']['value']\n",
    "            p = triple['p']['value']\n",
    "            o_type = triple['o']['type']\n",
    "            o = triple['o']['value']\n",
    "\n",
    "            class_label = get_clean_label(c)\n",
    "            edge_label = get_clean_label(p)\n",
    "            edge = None\n",
    "\n",
    "            if class_label in class_type_map:\n",
    "                node = class_type_map[class_label]\n",
    "                if is_primitive_subClassOf(p):\n",
    "                    super_class = get_clean_label(o)\n",
    "                    edge_id=f'{class_label}X{super_class}'\n",
    "\n",
    "                    if edge_id not in predicate_visited:\n",
    "                        edge = Edge(id=edge_id, label='subClassOf', to_node=super_class)\n",
    "                        node.out_edge.append(edge)\n",
    "                        predicate_visited.add(edge_id)\n",
    "                elif is_literal(o_type) or is_primitive_type(p):\n",
    "                    if edge_label not in node.properties:\n",
    "                        node.properties.append(edge_label)\n",
    "                else:\n",
    "                    out_edge = get_clean_label(o)\n",
    "                    edge_id = f'{class_label}X{out_edge}'\n",
    "\n",
    "                    if edge_id not in predicate_visited:\n",
    "                        edge = Edge(id=edge_id, label=edge_label, to_node=out_edge)\n",
    "                        node.out_edge.append(edge)\n",
    "                        predicate_visited.add(edge_id)\n",
    "            else:\n",
    "                node = Node(id=class_label, label=class_label)\n",
    "                if is_primitive_subClassOf(p):\n",
    "                    super_class = get_clean_label(o)\n",
    "                    edge_id = f'{class_label}X{super_class}'\n",
    "                    edge = Edge(id=edge_id, label='subClassOf', to_node=super_class)\n",
    "                    node.out_edge.append(edge)\n",
    "                    predicate_visited.add(edge_id)\n",
    "                elif is_literal(o_type) or is_primitive_type(p):\n",
    "                    node.properties.append(edge_label)\n",
    "                else:\n",
    "                    out_edge = get_clean_label(o)\n",
    "                    edge_id = f'{class_label}X{out_edge}'\n",
    "\n",
    "                    edge = Edge(id=edge_id, label=edge_label, to_node=out_edge)\n",
    "                    node.out_edge.append(edge)\n",
    "                    predicate_visited.add(edge_id)\n",
    "\n",
    "                node.class_type = 'explicit'\n",
    "                class_type_map[class_label] = node\n",
    "\n",
    "        pointer = triple_count\n",
    "\n",
    "    set_classes = None\n",
    "    predicate_visited = None\n",
    "\n",
    "    return class_type_map, triple_count\n",
    "\n",
    "\n",
    "def merge_all_properties(cs_sets, allow_dups=False):\n",
    "    \"\"\"\n",
    "    Flattening 2d-array to 1d-array to have a list of patterns\n",
    "\n",
    "    :param cs_sets: property sets\n",
    "    :param allow_dups: determine to keep or not to keep duplicate properties\n",
    "    :return: flattened array\n",
    "    \"\"\"\n",
    "    flattened = [prop for cs_set in cs_sets for prop in cs_set] if allow_dups else set([prop for cs_set in cs_sets for prop in cs_set])\n",
    "    return flattened\n",
    "\n",
    "\n",
    "def find_leafs(explicit_classes, subgraph, predicate='subClassOf'):\n",
    "    \"\"\"\n",
    "    Computes assigning the cluster to a leaf of a subgraph.\n",
    "\n",
    "    :param explicit_classes: explicit classes that exist within the fundamental hierarchical structure\n",
    "    :param subgraph: explicit classes that exist within the subgraph that is represented by a cluster\n",
    "    :param predicate: subClassOf predicate\n",
    "    :return: the explicit class to assign the cluster, e.g. Given Artist -> Person, then C1 -> Artist\n",
    "    \"\"\"\n",
    "    pairs = set()\n",
    "    explicit_class_nodes = set()\n",
    "\n",
    "    for k, v in explicit_classes.items():\n",
    "        if v.label not in subgraph:\n",
    "            continue\n",
    "\n",
    "        for out_edge in v.out_edge:\n",
    "            if out_edge.label == predicate and out_edge.to_node in subgraph:\n",
    "                pairs.add((out_edge.to_node, k))\n",
    "                explicit_class_nodes.add(v)\n",
    "\n",
    "    from_class = set()\n",
    "    to_subclass = set()\n",
    "\n",
    "    for general_class, specific_class in pairs:\n",
    "        from_class.add(general_class)\n",
    "        to_subclass.add(specific_class)\n",
    "\n",
    "    return to_subclass.difference(from_class), explicit_class_nodes\n",
    "\n",
    "\n",
    "def vectorization_layer(patterns_map):\n",
    "    \"\"\"\n",
    "    (3) operation, Computes vectorization\n",
    "\n",
    "    :param patterns_map:\n",
    "    :return:\n",
    "    \"\"\"\n",
    "    entity_patterns = [' '.join(pattern).lower() for pattern in patterns_map]\n",
    "    allow_annotations = r\"(?u)\\b[\\w-]+\\b\"\n",
    "\n",
    "    vectorizer = CountVectorizer(lowercase=False, binary=True, token_pattern=allow_annotations)\n",
    "    embedding_matrix = vectorizer.fit_transform(entity_patterns)\n",
    "\n",
    "    return embedding_matrix.toarray()\n",
    "\n",
    "\n",
    "def dimension_reduction_layer(embedding_matrix):\n",
    "    \"\"\"\n",
    "    (4) operation, Computes dimension reduction\n",
    "\n",
    "    :param embedding_matrix: numerical representation\n",
    "    :return: reduced numerical representation\n",
    "    \"\"\"\n",
    "    threshold = 70\n",
    "    embeddings = None\n",
    "\n",
    "    if len(embedding_matrix[0]) >= threshold:\n",
    "        init = 'random' if len(embedding_matrix[0]) > len(embedding_matrix) else 'spectral'\n",
    "        embeddings = umap.UMAP(metric='cosine', random_state=42, n_jobs=-1, n_components=threshold, init=init).fit_transform(embedding_matrix)\n",
    "    else:\n",
    "        embeddings = embedding_matrix\n",
    "\n",
    "    return embeddings\n",
    "\n",
    "\n",
    "def compute_clustering_layer(embeddings, distance_metric):\n",
    "    \"\"\"\n",
    "    (5) operation, Computes the automatic selection of the model\n",
    "\n",
    "    :param embeddings: numerical representation\n",
    "    :param distance_metric: distance metric, e.g. cosine distance\n",
    "    :return: stats, clustering solution\n",
    "    \"\"\"\n",
    "\n",
    "    stats, model = automatic_model_selection_s(embeddings, distance_metric)\n",
    "    return stats, model\n",
    "\n",
    "\n",
    "def mutate_clustering_result_parallelized_layer(cluster_model, patterns_map, primitive_map, class_label_x_patterns):\n",
    "    \"\"\"\n",
    "    (6) operation, method (1), Groups by cluster label and ungroups outlier cluster\n",
    "\n",
    "    :param cluster_model: clustering solution\n",
    "    :param patterns_map: patterns\n",
    "    :param primitive_map: primitive types\n",
    "    :param class_label_x_patterns: class labels from the batch\n",
    "    :return: grouped patterns, outliers\n",
    "    \"\"\"\n",
    "\n",
    "    data = pd.DataFrame({\n",
    "        'clusterId': cluster_model.labels_,\n",
    "        'pattern': patterns_map,\n",
    "        'primi': primitive_map,\n",
    "        'class_label': class_label_x_patterns,\n",
    "    })\n",
    "\n",
    "    dd_clustering_result = dd.from_pandas(data, npartitions=len(data.keys()))\n",
    "\n",
    "    overlaps_series = dd_clustering_result['primi']\n",
    "    properties_series = dd_clustering_result['pattern']\n",
    "\n",
    "    overlaps = overlaps_series.apply(lambda x: [y for y in x if 'classoverlap' in y], meta=overlaps_series)\n",
    "    primitives = overlaps_series.apply(lambda x: [y for y in x if not 'classoverlap' in y], meta=overlaps_series)\n",
    "    attributes = properties_series.apply(lambda x: [y for y in x if y.split('-')[-1] not in ['out', 'in']], meta=properties_series)\n",
    "\n",
    "    dd_clustering_result['classoverlap'] = overlaps.compute()\n",
    "    dd_clustering_result['primitive'] = primitives.compute()\n",
    "    dd_clustering_result['attributes'] = attributes.compute()\n",
    "\n",
    "    dd_clustering_result = dd_clustering_result.drop(columns=['primi'])\n",
    "\n",
    "    outliers = dd_clustering_result[dd_clustering_result['clusterId'] == -1].compute()\n",
    "\n",
    "    L_outliers = len(outliers)\n",
    "    distinct_outliers = {}\n",
    "\n",
    "    for x in range(L_outliers):\n",
    "        implicit_class = outliers.iloc[x, :]\n",
    "        distinct_outliers[implicit_class['pattern']] = implicit_class\n",
    "\n",
    "    if len(distinct_outliers) > 0:\n",
    "        outliers = pd.DataFrame(distinct_outliers.values())\n",
    "\n",
    "    clusters = dd_clustering_result[dd_clustering_result['clusterId'] != -1]\n",
    "\n",
    "    grouped_clusters = clusters.groupby('clusterId').agg(list).reset_index().compute()\n",
    "\n",
    "    return grouped_clusters, outliers\n",
    "\n",
    "\n",
    "def transform_to_property_graph_layer(batch_i, cluster_data, class_type_map):\n",
    "    \"\"\"\n",
    "    (6) operation, method (2), Constructs the nodes along with hierarchical linking to produce a partial schema\n",
    "\n",
    "    :param batch_i: ith batch\n",
    "    :param cluster_data: the grouped patterns, outliers\n",
    "    :param class_type_map: fundamental hierarchical structure\n",
    "    :return: set of nodes representing partial schema, ready to be produced\n",
    "    \"\"\"\n",
    "\n",
    "    L = len(cluster_data)\n",
    "    property_graph = []\n",
    "    allow_dups=False\n",
    "\n",
    "    for x in range(L):\n",
    "        implicit_class = cluster_data.iloc[x,:]\n",
    "        cluster_id = implicit_class['clusterId']\n",
    "\n",
    "        properties = None\n",
    "        primitives = None\n",
    "        attributes = None\n",
    "        class_overlap = None\n",
    "        class_label = None\n",
    "\n",
    "        if cluster_id > -1:\n",
    "            properties = merge_all_properties(implicit_class['pattern'], allow_dups=allow_dups)\n",
    "            primitives = merge_all_properties(implicit_class['primitive'], allow_dups=allow_dups)\n",
    "            attributes = merge_all_properties(implicit_class['attributes'], allow_dups=allow_dups)\n",
    "            class_overlap = merge_all_properties(implicit_class['classoverlap'], allow_dups=allow_dups)\n",
    "        else:\n",
    "            properties = set(implicit_class['pattern'])\n",
    "            primitives = set(implicit_class['primitive'])\n",
    "            attributes = set(implicit_class['attributes'])\n",
    "            class_overlap = set(implicit_class['classoverlap'])\n",
    "\n",
    "        class_label = implicit_class['class_label']\n",
    "\n",
    "        class_overlap = set([x.split('-')[0] for x in class_overlap])\n",
    "\n",
    "        class_overlap_leafs = set()\n",
    "        explicit_subgraph_nodes = set()\n",
    "\n",
    "        if len(class_overlap) > 1:\n",
    "            class_overlap_leafs, explicit_class_nodes = find_leafs(class_type_map, class_overlap)\n",
    "            explicit_subgraph_nodes = explicit_class_nodes\n",
    "        elif len(class_overlap) == 1:\n",
    "            class_overlap_leafs = class_overlap\n",
    "            overlapping_class = class_overlap.pop()\n",
    "\n",
    "            if overlapping_class in class_type_map:\n",
    "                explicit_subgraph_nodes.add(class_type_map[overlapping_class])\n",
    "\n",
    "        if len(class_overlap) == 0 or len(class_overlap_leafs) == 0:\n",
    "            fallback_classes = None\n",
    "            if type(class_label) == list:\n",
    "                fallback_classes = [get_clean_label(x) for x in class_label]\n",
    "            else:\n",
    "                fallback_classes = [get_clean_label(class_label)]\n",
    "\n",
    "            count_classes = Counter(fallback_classes)\n",
    "            has_same_freq = sum(count_classes.values()) == len(fallback_classes)\n",
    "            most_common_classes = None\n",
    "\n",
    "            if has_same_freq:\n",
    "                most_common_classes = list(count_classes.keys())\n",
    "            else:\n",
    "                most_common_classes = [count_classes.most_common(1).pop()[0]]\n",
    "\n",
    "            for common_class in most_common_classes:\n",
    "                class_overlap_leafs.add(common_class)\n",
    "                if common_class in class_type_map:\n",
    "                    property_graph.append(class_type_map[common_class])\n",
    "\n",
    "\n",
    "        label = f'P{batch_i}-C{x}' if cluster_id > -1 else f'P{batch_i}-C{x}-O'\n",
    "\n",
    "        out_going_edge = [Edge(id=f'{label}X{p}', label=p.split('-')[0], to_node=p) for p in properties if 'out' == p.split('-')[-1]]\n",
    "        out_going_edge += [Edge(id=f'{label}X{class_label}', label='type', to_node=get_clean_label(class_label)) for class_label in class_overlap_leafs]\n",
    "\n",
    "        in_going_edge = [Edge(id=f'{p}X{label}', label=p.split('-')[0], to_node=p) for p in properties if 'in' == p.split('-')[-1]]\n",
    "\n",
    "        all_properties = list(attributes.union(primitives))\n",
    "        hashy = Simhash(''.join([e.label for e in out_going_edge] + [e.label for e in in_going_edge] + all_properties)).value\n",
    "\n",
    "        # constructing the nodes\n",
    "        node = Node(id=hashy, label=label)\n",
    "        node.properties = all_properties\n",
    "        node.out_edge = out_going_edge\n",
    "        node.in_edge = in_going_edge\n",
    "        node.class_type = 'implicit'\n",
    "        node.class_overlaps = list(class_overlap_leafs)\n",
    "\n",
    "        property_graph.append(node)\n",
    "\n",
    "        for explicit_class_node in explicit_subgraph_nodes:\n",
    "            property_graph.append(explicit_class_node)\n",
    "\n",
    "    return property_graph\n"
   ],
   "metadata": {
    "collapsed": false,
    "pycharm": {
     "name": "#%%\n"
    }
   }
  },
  {
   "cell_type": "code",
   "execution_count": 36,
   "outputs": [],
   "source": [],
   "metadata": {
    "collapsed": false,
    "pycharm": {
     "name": "#%%\n"
    }
   }
  },
  {
   "cell_type": "code",
   "execution_count": 37,
   "outputs": [],
   "source": [
    "def partitioning(class_types_x_freq_instances, batch_size=2000):\n",
    "    \"\"\"\n",
    "    Applying partitioning based on class type sizes\n",
    "\n",
    "    :param class_types_x_freq_instances: class type with the size\n",
    "    :param batch_size: batch size\n",
    "    :return: set of batches\n",
    "    \"\"\"\n",
    "    class_partitions = {}\n",
    "    partition_index = 0\n",
    "    size = 0\n",
    "    class_partitions[partition_index] = []\n",
    "\n",
    "    for k, v in class_types_x_freq_instances.items():\n",
    "\n",
    "        if size+v <= batch_size:\n",
    "            if partition_index in class_partitions:\n",
    "                class_partitions[partition_index].append(k)\n",
    "            else:\n",
    "                class_partitions[partition_index] = [k]\n",
    "            size += v\n",
    "        elif v >= batch_size:\n",
    "            if partition_index != 0:\n",
    "                partition_index += 1\n",
    "            class_partitions[partition_index] = [k]\n",
    "            partition_index += 1\n",
    "            size = 0\n",
    "        else:\n",
    "            partition_index += 1\n",
    "            class_partitions[partition_index] = [k]\n",
    "            size = v\n",
    "\n",
    "    return class_partitions\n",
    "\n",
    "\n",
    "def build_partial_schema(batch_i, model, class_x_patterns, class_x_primitives, class_label_x_patterns, class_type_map):\n",
    "    \"\"\"\n",
    "    (6) operation, Builds the partial schema\n",
    "\n",
    "    :param batch_i: ith batch\n",
    "    :param model: clustering solution\n",
    "    :param class_x_patterns: patterns\n",
    "    :param class_x_primitives: primitive types\n",
    "    :param class_label_x_patterns: explicit class type labels in the ith batch\n",
    "    :param class_type_map: fundamental hierarchical structure\n",
    "    :return: partial schema\n",
    "    \"\"\"\n",
    "\n",
    "    # computed in parallel\n",
    "    grouped_mutated_clustering_result, outliers = mutate_clustering_result_parallelized_layer(\n",
    "        model,\n",
    "        class_x_patterns,\n",
    "        class_x_primitives,\n",
    "        class_label_x_patterns)\n",
    "\n",
    "    cluster_data = pd.concat([grouped_mutated_clustering_result, outliers])\n",
    "\n",
    "    # transform to property graph\n",
    "    partial_schema = transform_to_property_graph_layer(batch_i, cluster_data, class_type_map)\n",
    "\n",
    "    return partial_schema\n",
    "\n",
    "\n",
    "def pipeline(endpoint, stats, batch_i, set_of_class_types, window, distance_metric, class_type_map):\n",
    "    \"\"\"\n",
    "    Phase (2) computes the pipeline\n",
    "\n",
    "    :param endpoint: SPARQL-endpoint\n",
    "    :param stats: to store statistical information\n",
    "    :param batch_i: ith batch\n",
    "    :param set_of_class_types: class types within the batch\n",
    "    :param window: sliding window size\n",
    "    :param distance_metric: distance metric for clustering\n",
    "    :param class_type_map: fundamental hierarchical structure\n",
    "    :return: partial schema\n",
    "    \"\"\"\n",
    "    num_distinct_patterns = 0\n",
    "    num_instances = 0\n",
    "    silhouette_s = 0\n",
    "    total_visited_triples = 0\n",
    "    total_removed_triples = 0\n",
    "    total_n_queries = 0\n",
    "\n",
    "    class_x_patterns = []\n",
    "    class_x_primitives = []\n",
    "    class_label_x_patterns = []\n",
    "\n",
    "    request_limit = 20\n",
    "    # a chunk is a subset of the partition in order to solve the request body limitation (string length)\n",
    "    chunks = [set_of_class_types[i:i + request_limit] for i in range(0, len(set_of_class_types), request_limit)]\n",
    "    L = len(chunks)\n",
    "\n",
    "    for chunk_i in range(L):\n",
    "        chunk = chunks[chunk_i]\n",
    "        class_types = ' '.join([f'(<{class_type}>)' for class_type in chunk])\n",
    "\n",
    "        print(f'Retrieving instances from classes: {[get_clean_label(x) for x in chunk]}')\n",
    "\n",
    "        # retrieve triples of a certain explicit class type\n",
    "        triples_batch, total_triples, class_types_of_entities, num_queries = retrieve_triples_from_class_layer(endpoint, class_types, window)\n",
    "\n",
    "        print(f'Obtained num entities: {len(triples_batch.keys())}')\n",
    "\n",
    "        # discover patterns\n",
    "        patterns_map, primitive_map, removed_triples = discover_patterns_layer(batch=triples_batch)\n",
    "\n",
    "        # concatenate arrays to form one subset\n",
    "        class_x_primitives += primitive_map\n",
    "        class_label_x_patterns += class_types_of_entities\n",
    "        total_n_queries += num_queries\n",
    "\n",
    "        # store pattern per class\n",
    "        class_x_patterns += patterns_map\n",
    "\n",
    "        # for completeness metrics\n",
    "        total_visited_triples += total_triples\n",
    "        total_removed_triples += removed_triples\n",
    "        num_instances += len(triples_batch.keys())\n",
    "\n",
    "\n",
    "    num_distinct_patterns = len(set(class_x_patterns))\n",
    "\n",
    "    binary_matrix = vectorization_layer(class_x_patterns)\n",
    "    embeddings = dimension_reduction_layer(binary_matrix)\n",
    "\n",
    "    stats['batch_id'].append(batch_i)\n",
    "    stats['total_visited_triples'].append(total_visited_triples)\n",
    "    stats['total_removed_triples'].append(total_removed_triples)\n",
    "    stats['num_distinct_patterns'].append(num_distinct_patterns)\n",
    "    stats['retrieved_num_instances'].append(num_instances)\n",
    "    stats['total_n_queries'].append(total_n_queries)\n",
    "\n",
    "    print(f'num_instances: {num_instances}')\n",
    "    print(f'num_distinct_patterns: {num_distinct_patterns}')\n",
    "    print(f'total_removed_triples: {total_removed_triples}')\n",
    "\n",
    "    clustering_stats, model = compute_clustering_layer(embeddings, distance_metric)\n",
    "\n",
    "    stats['validity_index'].append(clustering_stats[-1])\n",
    "    stats['dbcv_s'].append(clustering_stats[2])\n",
    "    stats['epsilon'].append(clustering_stats[0])\n",
    "    stats['min_cluster_size'].append(clustering_stats[1])\n",
    "    stats['n_clusters'].append(clustering_stats[3])\n",
    "    stats['n_outliers'].append(clustering_stats[4])\n",
    "\n",
    "    num_clusters = len(set(model.labels_))\n",
    "\n",
    "    if num_clusters > 1:\n",
    "        silhouette_s = silhouette_score(embeddings, model.labels_, metric=distance_metric)\n",
    "\n",
    "    stats['silhouette_s'].append(silhouette_s)\n",
    "\n",
    "    print(f'silhouette_s: {silhouette_s}')\n",
    "\n",
    "    # computed in parallel\n",
    "    # transform to property graph\n",
    "    partial_schema = build_partial_schema(\n",
    "        batch_i,\n",
    "        model,\n",
    "        class_x_patterns,\n",
    "        class_x_primitives,\n",
    "        class_label_x_patterns,\n",
    "        class_type_map)\n",
    "\n",
    "    model = None\n",
    "    binary_matrix = None\n",
    "    embeddings = None\n",
    "\n",
    "    return partial_schema"
   ],
   "metadata": {
    "collapsed": false,
    "pycharm": {
     "name": "#%%\n"
    }
   }
  },
  {
   "cell_type": "code",
   "execution_count": 38,
   "outputs": [],
   "source": [
    "def partial_schema_retrieval(endpoint, class_type_map, class_partitions, class_type_freq_map, distance_metric, window=100000, iter=None):\n",
    "    \"\"\"\n",
    "    Phase (2) Computing the pipeline in iterations\n",
    "\n",
    "    :param endpoint: SPARQL-endpoint\n",
    "    :param class_type_map: fundamental hierarchical structure\n",
    "    :param class_partitions: set of batches\n",
    "    :param class_type_freq_map: class type and their sizes\n",
    "    :param distance_metric: distance metric\n",
    "    :param window: sliding window size\n",
    "    :param iter: the number of iterations to compute the algorithm\n",
    "    :return: all partial schemas obtained in each pipeline iteration\n",
    "    \"\"\"\n",
    "\n",
    "    stats = {\n",
    "        'batch_id': [],\n",
    "        'total_visited_triples': [],\n",
    "        'total_removed_triples': [],\n",
    "        'num_distinct_patterns': [],\n",
    "        'expected_num_instances': [],\n",
    "        'retrieved_num_instances': [],\n",
    "        'epsilon': [],\n",
    "        'dbcv_s': [],\n",
    "        'validity_index': [],\n",
    "        'min_cluster_size': [],\n",
    "        'n_clusters': [],\n",
    "        'n_outliers': [],\n",
    "        'silhouette_s': [],\n",
    "        'processed_explicit_classes': [],\n",
    "        'elapsed_time_s': [],\n",
    "        'total_n_queries': [],\n",
    "        'n_nodes': []\n",
    "    }\n",
    "\n",
    "    queue = []\n",
    "\n",
    "    L = iter if iter else len(class_partitions)\n",
    "\n",
    "    if iter and iter > len(class_partitions):\n",
    "        raise Exception(f'Please enter iter smaller than number of partitions: {len(class_partitions)}')\n",
    "\n",
    "    print('Starting pipeline')\n",
    "\n",
    "    for batch_i, batch in enumerate(class_partitions):\n",
    "        if batch_i >= L:\n",
    "            return queue, stats\n",
    "\n",
    "        print(f'\\n--->>> Running batch: {batch_i+1}/{L} <<<---')\n",
    "        set_class_types = class_partitions[batch]\n",
    "\n",
    "        expected_n_instances = sum([class_type_freq_map[class_type] for class_type in set_class_types])\n",
    "\n",
    "        outer_start_time = time.time()\n",
    "\n",
    "        partial_schema = pipeline(endpoint, stats, batch_i, set_class_types, window, distance_metric, class_type_map)\n",
    "\n",
    "        # deduplication of nodes within each iteration\n",
    "        cohesive_partial_schema = list({node.id:node for node in partial_schema}.values())\n",
    "\n",
    "        outer_elapsed_time = round(time.time() - outer_start_time, 4)\n",
    "\n",
    "        num_classes_processing = len(set_class_types)\n",
    "        stats['processed_explicit_classes'].append(num_classes_processing)\n",
    "        stats['expected_num_instances'].append(expected_n_instances)\n",
    "        stats['elapsed_time_s'].append(outer_elapsed_time)\n",
    "        stats['n_nodes'].append(len(cohesive_partial_schema))\n",
    "\n",
    "        queue.append(cohesive_partial_schema)\n",
    "\n",
    "    return queue, stats"
   ],
   "metadata": {
    "collapsed": false,
    "pycharm": {
     "name": "#%%\n"
    }
   }
  },
  {
   "cell_type": "markdown",
   "source": [
    "# ** Start Partial RDF Schema Retrieval Process **"
   ],
   "metadata": {
    "collapsed": false
   }
  },
  {
   "cell_type": "code",
   "execution_count": 2,
   "outputs": [
    {
     "data": {
      "image/png": "[encoded data removed]",
      "text/plain": "<IPython.core.display.Image object>"
     },
     "execution_count": 2,
     "metadata": {},
     "output_type": "execute_result"
    }
   ],
   "source": [
    "from IPython.display import Image\n",
    "Image(filename='../images/overarchingprocess.png')"
   ],
   "metadata": {
    "collapsed": false,
    "pycharm": {
     "name": "#%%\n"
    }
   }
  },
  {
   "cell_type": "markdown",
   "source": [
    "Add here your desired SPARQL-endpoint"
   ],
   "metadata": {
    "collapsed": false
   }
  },
  {
   "cell_type": "code",
   "execution_count": 39,
   "outputs": [],
   "source": [
    "# endpoint = 'https://query.wikidata.org/sparql'\n",
    "endpoint = 'http://dbpedia.org/sparql'"
   ],
   "metadata": {
    "collapsed": false,
    "pycharm": {
     "name": "#%%\n"
    }
   }
  },
  {
   "cell_type": "markdown",
   "source": [
    "## - Phase 1: Prior Knowledge\n",
    "\n",
    "- construct fundamental hierarchical structure\n",
    "- retrieve the size of each explicit class type\n",
    "- apply partitioning based on class type sizes"
   ],
   "metadata": {
    "collapsed": false
   }
  },
  {
   "cell_type": "code",
   "execution_count": null,
   "outputs": [],
   "source": [
    "%%time\n",
    "\n",
    "print(f'Running endpoint: {endpoint}')\n",
    "outer_start_time = time.time()\n",
    "\n",
    "# fundamental hierarchical structure\n",
    "class_type_map, prior_knowledge_triple_count = retrieval_of_class_types(endpoint, window=1000000)\n",
    "\n",
    "# Retrieval of class type their sizes\n",
    "q = \"\"\"\n",
    "PREFIX owl: <http://www.w3.org/2002/07/owl#>\n",
    "SELECT ?c (count(distinct ?s) as ?freq)\n",
    "WHERE {\n",
    "  ?c a owl:Class .\n",
    "  ?s a ?c .\n",
    "}\n",
    "GROUP BY ?c\n",
    "ORDER BY ?freq\n",
    "\"\"\"\n",
    "\n",
    "triples = get_graph(endpoint, q)\n",
    "class_types_x_freq_instances = {triple['c']['value']:int(triple['freq']['value']) for triple in triples}\n",
    "\n",
    "# partition in order to have enough data size for clustering\n",
    "class_partitions = partitioning(class_types_x_freq_instances, batch_size=2000)\n",
    "\n",
    "outer_elapsed_time = round(time.time() - outer_start_time, 4)\n",
    "\n",
    "print(f'Prior knowledge time: {outer_elapsed_time}')"
   ],
   "metadata": {
    "collapsed": false,
    "pycharm": {
     "name": "#%%\n",
     "is_executing": true
    }
   }
  },
  {
   "cell_type": "markdown",
   "source": [
    "## - Phase 2: Pipeline\n",
    "\n",
    "Compute the pipeline in iterations"
   ],
   "metadata": {
    "collapsed": false,
    "pycharm": {
     "name": "#%% md\n"
    }
   }
  },
  {
   "cell_type": "code",
   "execution_count": null,
   "outputs": [],
   "source": [
    "%%time\n",
    "\n",
    "import warnings\n",
    "warnings.filterwarnings('ignore')\n",
    "\n",
    "print(f'Running endpoint: {endpoint}')\n",
    "print('Obtaining implicit classes')\n",
    "\n",
    "# qq = contains all partial schemas after n iterations, stats = statistical information for completeness and performance\n",
    "qq, stats = partial_schema_retrieval(endpoint, class_type_map, class_partitions, class_types_x_freq_instances, cosine, iter=10, window=500000)"
   ],
   "metadata": {
    "collapsed": false,
    "pycharm": {
     "name": "#%%\n",
     "is_executing": true
    }
   }
  },
  {
   "cell_type": "markdown",
   "source": [
    "# ** End Partial RDF Schema Retrieval Process **"
   ],
   "metadata": {
    "collapsed": false
   }
  },
  {
   "cell_type": "markdown",
   "source": [
    "Deduplication of nodes after running for 10 iterations.\n",
    "\n",
    "- Remember each iteration produces a partial schema, this is only for demonstration purpose as storing all nodes in one collection would cause duplicates since each iteration might face same explicit and implicit classes."
   ],
   "metadata": {
    "collapsed": false
   }
  },
  {
   "cell_type": "code",
   "execution_count": null,
   "outputs": [],
   "source": [
    "qq_non_dups = {node.id:node for nodes in qq for node in nodes}\n",
    "qq_non_dups = list(qq_non_dups.values())"
   ],
   "metadata": {
    "collapsed": false,
    "pycharm": {
     "name": "#%%\n",
     "is_executing": true
    }
   }
  },
  {
   "cell_type": "markdown",
   "source": [
    "Count the number of Explicit and Implicit Classes"
   ],
   "metadata": {
    "collapsed": false
   }
  },
  {
   "cell_type": "code",
   "execution_count": null,
   "outputs": [],
   "source": [
    "explicit = [node for node in qq_non_dups if node.class_type == 'explicit']\n",
    "implicit = [node for node in qq_non_dups if node.class_type == 'implicit']\n",
    "\n",
    "len(explicit), len(implicit)"
   ],
   "metadata": {
    "collapsed": false,
    "pycharm": {
     "name": "#%%\n",
     "is_executing": true
    }
   }
  },
  {
   "cell_type": "markdown",
   "source": [
    "### Store statistical information as CSV\n",
    "\n",
    "Store stats as CSV. Remember, do not overwrite the existing csv file unless it is unimportant."
   ],
   "metadata": {
    "collapsed": false
   }
  },
  {
   "cell_type": "code",
   "execution_count": null,
   "outputs": [],
   "source": [
    "df_stats = pd.DataFrame(stats)"
   ],
   "metadata": {
    "collapsed": false,
    "pycharm": {
     "name": "#%%\n",
     "is_executing": true
    }
   }
  },
  {
   "cell_type": "code",
   "execution_count": 45,
   "outputs": [],
   "source": [
    "# df_stats.to_csv('../data/add_here_a_custom_file_name.csv', index=False)"
   ],
   "metadata": {
    "collapsed": false,
    "pycharm": {
     "name": "#%%\n"
    }
   }
  },
  {
   "cell_type": "markdown",
   "source": [
    "### Store all partial schemas as JSON for visualization purposes\n",
    "Serialize the property graphs (partial schemas) to JSON. Then, this format can be used for the visualization at the front-end"
   ],
   "metadata": {
    "collapsed": false
   }
  },
  {
   "cell_type": "code",
   "execution_count": 46,
   "outputs": [],
   "source": [
    "import json\n",
    "from json import JSONEncoder\n",
    "\n",
    "class NodeEncoder(JSONEncoder):\n",
    "    def default(self, o):\n",
    "            return o.__dict__\n",
    "\n",
    "encoded_list = []\n",
    "\n",
    "for node in qq_non_dups:\n",
    "    encoded = NodeEncoder().encode(node)\n",
    "    encoded = json.loads(encoded)\n",
    "    encoded_list.append(encoded)"
   ],
   "metadata": {
    "collapsed": false,
    "pycharm": {
     "name": "#%%\n"
    }
   }
  },
  {
   "cell_type": "markdown",
   "source": [
    "Here add a custom json file path. Remember, do not overwrite the existing json files unless it is unimportant."
   ],
   "metadata": {
    "collapsed": false
   }
  },
  {
   "cell_type": "code",
   "execution_count": 48,
   "outputs": [],
   "source": [
    "# with open('../data/add_here_a_custom_file_name.json', 'w', encoding=\"utf8\") as outfile:\n",
    "#     json.dump(encoded_list, outfile)"
   ],
   "metadata": {
    "collapsed": false,
    "pycharm": {
     "name": "#%%\n"
    }
   }
  },
  {
   "cell_type": "markdown",
   "source": [],
   "metadata": {
    "collapsed": false,
    "pycharm": {
     "name": "#%% md\n"
    }
   }
  },
  {
   "cell_type": "markdown",
   "source": [
    "# Evaluation\n",
    "\n",
    "Read the CSV to visualize the measurements in metrics. You can also use the measurements already conducted."
   ],
   "metadata": {
    "collapsed": false,
    "pycharm": {
     "name": "#%% md\n"
    }
   }
  },
  {
   "cell_type": "code",
   "execution_count": 34,
   "outputs": [],
   "source": [
    "# df_stats = pd.read_csv('../data/local_server_batch_1_2_2min_7_explicit_278_implicit_stats.csv')\n",
    "df_stats = pd.read_csv('../data/dbpedia_batch_1_10_55min_213_explicit_4168_implicit_stats.csv')\n",
    "# df_stats = pd.read_csv('../data/wikidata_batch_1_10_1h2min_1161_explicit_2286_implicit_stats.csv')"
   ],
   "metadata": {
    "collapsed": false,
    "pycharm": {
     "name": "#%%\n"
    }
   }
  },
  {
   "cell_type": "code",
   "execution_count": 35,
   "outputs": [
    {
     "data": {
      "text/plain": "   batch_id  total_visited_triples  total_removed_triples  \\\n0         0                 610724                    689   \n1         1                 386363                   1332   \n2         2                 269131                    437   \n3         3                 358688                    614   \n4         4                 635752                    314   \n5         5                 197626                    408   \n6         6                 370157                    428   \n7         7                 196950                    228   \n8         8                 229958                    463   \n9         9                 229678                    886   \n\n   num_distinct_patterns  expected_num_instances  retrieved_num_instances  \\\n0                   1561                    1983                     1863   \n1                   1535                    1772                     1780   \n2                   1465                    1911                     1907   \n3                   1494                    1662                     2195   \n4                   1364                    1918                     1914   \n5                   1031                    1759                     1668   \n6                   1387                    1902                     1846   \n7                    888                    1505                     1409   \n8                   1410                    1612                     1616   \n9                   1257                    1693                     1564   \n\n   epsilon    dbcv_s  validity_index  min_cluster_size  n_clusters  \\\n0      0.0  0.417114        0.551276                10          58   \n1      0.0  0.351015        0.430565                15          33   \n2      0.0  0.410424        0.527055                20          27   \n3      0.0  0.352473        0.484490                10          61   \n4      0.0  0.418636        0.712428                20          31   \n5      0.0  0.428286        0.395355                20          19   \n6      0.0  0.412547        0.546564                10          53   \n7      0.0  0.440653        0.669520                15          28   \n8      0.0  0.273477        0.591618                20          29   \n9      0.0  0.427159        0.606847                20          25   \n\n   n_outliers  silhouette_s  processed_explicit_classes  elapsed_time_s  \\\n0         343      0.528713                          30        434.1112   \n1         469      0.356152                           9        388.4365   \n2         548      0.356394                           7        348.8059   \n3         359      0.538441                           5        447.7425   \n4         411      0.506570                           5        485.9132   \n5         556      0.287071                           4        232.0291   \n6         409      0.443081                           4        324.2695   \n7         308      0.470663                           3        201.9129   \n8         481      0.296156                           3        248.0816   \n9         350      0.453767                           3        215.4258   \n\n   total_n_queries  n_nodes  \n0               62      467  \n1               39      533  \n2               28      511  \n3               36      430  \n4               65      436  \n5               21      587  \n6               38      466  \n7               20      319  \n8               26      469  \n9               24      358  ",
      "text/html": "<div>\n<style scoped>\n    .dataframe tbody tr th:only-of-type {\n        vertical-align: middle;\n    }\n\n    .dataframe tbody tr th {\n        vertical-align: top;\n    }\n\n    .dataframe thead th {\n        text-align: right;\n    }\n</style>\n<table border=\"1\" class=\"dataframe\">\n  <thead>\n    <tr style=\"text-align: right;\">\n      <th></th>\n      <th>batch_id</th>\n      <th>total_visited_triples</th>\n      <th>total_removed_triples</th>\n      <th>num_distinct_patterns</th>\n      <th>expected_num_instances</th>\n      <th>retrieved_num_instances</th>\n      <th>epsilon</th>\n      <th>dbcv_s</th>\n      <th>validity_index</th>\n      <th>min_cluster_size</th>\n      <th>n_clusters</th>\n      <th>n_outliers</th>\n      <th>silhouette_s</th>\n      <th>processed_explicit_classes</th>\n      <th>elapsed_time_s</th>\n      <th>total_n_queries</th>\n      <th>n_nodes</th>\n    </tr>\n  </thead>\n  <tbody>\n    <tr>\n      <th>0</th>\n      <td>0</td>\n      <td>610724</td>\n      <td>689</td>\n      <td>1561</td>\n      <td>1983</td>\n      <td>1863</td>\n      <td>0.0</td>\n      <td>0.417114</td>\n      <td>0.551276</td>\n      <td>10</td>\n      <td>58</td>\n      <td>343</td>\n      <td>0.528713</td>\n      <td>30</td>\n      <td>434.1112</td>\n      <td>62</td>\n      <td>467</td>\n    </tr>\n    <tr>\n      <th>1</th>\n      <td>1</td>\n      <td>386363</td>\n      <td>1332</td>\n      <td>1535</td>\n      <td>1772</td>\n      <td>1780</td>\n      <td>0.0</td>\n      <td>0.351015</td>\n      <td>0.430565</td>\n      <td>15</td>\n      <td>33</td>\n      <td>469</td>\n      <td>0.356152</td>\n      <td>9</td>\n      <td>388.4365</td>\n      <td>39</td>\n      <td>533</td>\n    </tr>\n    <tr>\n      <th>2</th>\n      <td>2</td>\n      <td>269131</td>\n      <td>437</td>\n      <td>1465</td>\n      <td>1911</td>\n      <td>1907</td>\n      <td>0.0</td>\n      <td>0.410424</td>\n      <td>0.527055</td>\n      <td>20</td>\n      <td>27</td>\n      <td>548</td>\n      <td>0.356394</td>\n      <td>7</td>\n      <td>348.8059</td>\n      <td>28</td>\n      <td>511</td>\n    </tr>\n    <tr>\n      <th>3</th>\n      <td>3</td>\n      <td>358688</td>\n      <td>614</td>\n      <td>1494</td>\n      <td>1662</td>\n      <td>2195</td>\n      <td>0.0</td>\n      <td>0.352473</td>\n      <td>0.484490</td>\n      <td>10</td>\n      <td>61</td>\n      <td>359</td>\n      <td>0.538441</td>\n      <td>5</td>\n      <td>447.7425</td>\n      <td>36</td>\n      <td>430</td>\n    </tr>\n    <tr>\n      <th>4</th>\n      <td>4</td>\n      <td>635752</td>\n      <td>314</td>\n      <td>1364</td>\n      <td>1918</td>\n      <td>1914</td>\n      <td>0.0</td>\n      <td>0.418636</td>\n      <td>0.712428</td>\n      <td>20</td>\n      <td>31</td>\n      <td>411</td>\n      <td>0.506570</td>\n      <td>5</td>\n      <td>485.9132</td>\n      <td>65</td>\n      <td>436</td>\n    </tr>\n    <tr>\n      <th>5</th>\n      <td>5</td>\n      <td>197626</td>\n      <td>408</td>\n      <td>1031</td>\n      <td>1759</td>\n      <td>1668</td>\n      <td>0.0</td>\n      <td>0.428286</td>\n      <td>0.395355</td>\n      <td>20</td>\n      <td>19</td>\n      <td>556</td>\n      <td>0.287071</td>\n      <td>4</td>\n      <td>232.0291</td>\n      <td>21</td>\n      <td>587</td>\n    </tr>\n    <tr>\n      <th>6</th>\n      <td>6</td>\n      <td>370157</td>\n      <td>428</td>\n      <td>1387</td>\n      <td>1902</td>\n      <td>1846</td>\n      <td>0.0</td>\n      <td>0.412547</td>\n      <td>0.546564</td>\n      <td>10</td>\n      <td>53</td>\n      <td>409</td>\n      <td>0.443081</td>\n      <td>4</td>\n      <td>324.2695</td>\n      <td>38</td>\n      <td>466</td>\n    </tr>\n    <tr>\n      <th>7</th>\n      <td>7</td>\n      <td>196950</td>\n      <td>228</td>\n      <td>888</td>\n      <td>1505</td>\n      <td>1409</td>\n      <td>0.0</td>\n      <td>0.440653</td>\n      <td>0.669520</td>\n      <td>15</td>\n      <td>28</td>\n      <td>308</td>\n      <td>0.470663</td>\n      <td>3</td>\n      <td>201.9129</td>\n      <td>20</td>\n      <td>319</td>\n    </tr>\n    <tr>\n      <th>8</th>\n      <td>8</td>\n      <td>229958</td>\n      <td>463</td>\n      <td>1410</td>\n      <td>1612</td>\n      <td>1616</td>\n      <td>0.0</td>\n      <td>0.273477</td>\n      <td>0.591618</td>\n      <td>20</td>\n      <td>29</td>\n      <td>481</td>\n      <td>0.296156</td>\n      <td>3</td>\n      <td>248.0816</td>\n      <td>26</td>\n      <td>469</td>\n    </tr>\n    <tr>\n      <th>9</th>\n      <td>9</td>\n      <td>229678</td>\n      <td>886</td>\n      <td>1257</td>\n      <td>1693</td>\n      <td>1564</td>\n      <td>0.0</td>\n      <td>0.427159</td>\n      <td>0.606847</td>\n      <td>20</td>\n      <td>25</td>\n      <td>350</td>\n      <td>0.453767</td>\n      <td>3</td>\n      <td>215.4258</td>\n      <td>24</td>\n      <td>358</td>\n    </tr>\n  </tbody>\n</table>\n</div>"
     },
     "execution_count": 35,
     "metadata": {},
     "output_type": "execute_result"
    }
   ],
   "source": [
    "df_stats"
   ],
   "metadata": {
    "collapsed": false,
    "pycharm": {
     "name": "#%%\n"
    }
   }
  },
  {
   "cell_type": "markdown",
   "source": [
    "## Completeness\n",
    "\n",
    "Completeness of the retrieval process"
   ],
   "metadata": {
    "collapsed": false
   }
  },
  {
   "cell_type": "markdown",
   "source": [
    "- Total retrieved and used triples\n",
    "- Total expected and actual instances"
   ],
   "metadata": {
    "collapsed": false
   }
  },
  {
   "cell_type": "code",
   "execution_count": 36,
   "outputs": [],
   "source": [
    "def calc_precision(x):\n",
    "    x1 = set(np.arange(0, x[0], 1, dtype=int).tolist())\n",
    "    x2 = set(np.arange(0, x[1], 1, dtype=int).tolist())\n",
    "    precision = len(x2.intersection(x1)) / len(x1)\n",
    "    return precision\n",
    "\n",
    "\n",
    "def calc_recall(x):\n",
    "    x1 = set(np.arange(0, x[0], 1, dtype=int).tolist())\n",
    "    x2 = set(np.arange(0, x[1], 1, dtype=int).tolist())\n",
    "    recall = len(x2.intersection(x1)) / len(x2)\n",
    "    return recall\n",
    "\n",
    "\n",
    "def calc_f_score(x):\n",
    "    precision = x[0]\n",
    "    recall = x[1]\n",
    "    f_score = (2 * precision * recall) / (precision + recall)\n",
    "    return f_score"
   ],
   "metadata": {
    "collapsed": false,
    "pycharm": {
     "name": "#%%\n"
    }
   }
  },
  {
   "cell_type": "code",
   "execution_count": 37,
   "outputs": [],
   "source": [
    "df_completeness = pd.DataFrame(columns=['precision', 'recall', 'f_score'])\n",
    "df_stats['total_removed_triples'] = df_stats['total_visited_triples'] - df_stats['total_removed_triples']\n",
    "df_completeness['precision'] = df_stats[['total_visited_triples', 'total_removed_triples']].apply(lambda x: calc_precision(x), axis=1)\n",
    "df_completeness['recall'] = df_stats[['total_visited_triples', 'total_removed_triples']].apply(lambda x: calc_recall(x), axis=1)\n",
    "df_completeness['f_score'] = df_completeness[['precision', 'recall']].apply(lambda x: calc_f_score(x), axis=1)"
   ],
   "metadata": {
    "collapsed": false,
    "pycharm": {
     "name": "#%%\n"
    }
   }
  },
  {
   "cell_type": "code",
   "execution_count": 39,
   "outputs": [
    {
     "data": {
      "text/plain": "<Figure size 720x576 with 2 Axes>",
      "image/png": "[encoded data removed]"
     },
     "metadata": {
      "needs_background": "light"
     },
     "output_type": "display_data"
    }
   ],
   "source": [
    "labelsize = 16\n",
    "fontsize = 20\n",
    "\n",
    "fig, ax_some = plt.subplots(nrows=2, ncols=1, figsize=(10, 8))\n",
    "\n",
    "# Precision, Recall, F-score\n",
    "ax1 = df_completeness.plot.bar(xlabel='Iteration', rot=0, color=['k', '#C74560', '#fcd4b6'], ax=ax_some[0]);\n",
    "ax1.legend([\"Precision\", \"Recall\", \"F-score\"], loc='lower right', fontsize=fontsize)\n",
    "ax1.set_title('(a) Completeness in retrieving of triples over iterations', fontsize=fontsize)\n",
    "ax1.set_xlabel(\"Iteration\", fontsize=fontsize)\n",
    "ax1.set_ylabel('%', fontsize=fontsize)\n",
    "ax1.tick_params(labelsize=labelsize)\n",
    "ax1.set_xticks(np.arange(10), np.arange(1, 11));\n",
    "\n",
    "ax2 = df_stats[['expected_num_instances', 'retrieved_num_instances']].plot.bar(rot=0, color=['k', '#c280ff'], ax=ax_some[1]);\n",
    "ax2.legend([\"Expected\", \"Actual\"], loc='lower right', fontsize=fontsize)\n",
    "ax2.set_title('(b) Expected and actual retrieved instances over iterations', fontsize=fontsize)\n",
    "ax2.set_xlabel(\"Iteration\", fontsize=fontsize)\n",
    "ax2.set_ylabel('Number of instances', fontsize=fontsize)\n",
    "ax2.tick_params(labelsize=labelsize)\n",
    "ax2.set_xticks(np.arange(10), np.arange(1, 11));\n",
    "\n",
    "plt.tight_layout()\n",
    "\n",
    "# fig.savefig('../data/dbpedia_completeness.png')\n",
    "# fig.savefig('../data/wikidata_completeness.png')"
   ],
   "metadata": {
    "collapsed": false,
    "pycharm": {
     "name": "#%%\n"
    }
   }
  },
  {
   "cell_type": "code",
   "execution_count": null,
   "outputs": [],
   "source": [],
   "metadata": {
    "collapsed": false,
    "pycharm": {
     "name": "#%%\n"
    }
   }
  },
  {
   "cell_type": "markdown",
   "source": [
    "## Performance\n",
    "\n",
    "- computation time\n",
    "- number of executed queries\n",
    "- number of processed class types\n",
    "- clustering validation, DBCV"
   ],
   "metadata": {
    "collapsed": false
   }
  },
  {
   "cell_type": "code",
   "execution_count": 57,
   "outputs": [
    {
     "data": {
      "text/plain": "<Figure size 1440x504 with 4 Axes>",
      "image/png": "[encoded data removed]"
     },
     "metadata": {},
     "output_type": "display_data"
    }
   ],
   "source": [
    "sns.set_theme(style=\"white\")\n",
    "\n",
    "df_stats['elapsed_time_m'] = df_stats.elapsed_time_s / 60\n",
    "df_stats.elapsed_time_m = df_stats.elapsed_time_m.apply(lambda x: round(x, 2))\n",
    "\n",
    "f, (ax1, ax2, ax3, ax4) = plt.subplots(1, 4, figsize=(20, 7), sharex=True)\n",
    "\n",
    "labelsize = 30\n",
    "fontsize = 30\n",
    "\n",
    "x = df_stats.batch_id + 1\n",
    "y1 = df_stats.elapsed_time_m\n",
    "sns.barplot(x=x, y=y1, palette=\"rocket\", ax=ax1)\n",
    "ax1.axhline(0, color=\"k\", clip_on=False)\n",
    "ax1.set_title(\"(1) Computation time (min.)\", fontsize=fontsize)\n",
    "ax1.set_xlabel(\"Iteration\", fontsize=fontsize)\n",
    "ax1.set_ylabel(\"\")\n",
    "ax1.tick_params(labelsize=labelsize)\n",
    "\n",
    "y2 = df_stats.total_n_queries\n",
    "sns.barplot(x=x, y=y2, palette=\"rocket\", ax=ax2)\n",
    "ax2.axhline(0, color=\"k\", clip_on=False)\n",
    "ax2.set_title(\"(2) No. queries\", fontsize=fontsize)\n",
    "ax2.set_xlabel(\"Iteration\", fontsize=fontsize)\n",
    "ax2.set_ylabel(\"\")\n",
    "ax2.tick_params(labelsize=labelsize)\n",
    "\n",
    "y3 = df_stats.processed_explicit_classes\n",
    "s3 = sns.barplot(x=x, y=y3, palette=\"rocket\", ax=ax3)\n",
    "ax3.axhline(0, color=\"k\", clip_on=False)\n",
    "ax3.set_title(\"(3) No. classes processed\", fontsize=fontsize)\n",
    "ax3.set_xlabel(\"Iteration\", fontsize=fontsize)\n",
    "ax3.set_ylabel(\"\")\n",
    "ax3.tick_params(labelsize=labelsize)\n",
    "\n",
    "y4 = df_stats.validity_index\n",
    "sns.barplot(x=x, y=y4, palette=\"rocket\", ax=ax4)\n",
    "ax4.axhline(0, color=\"k\", clip_on=False)\n",
    "ax4.set_title(\"(4) Clustering (DBCV)\", fontsize=fontsize)\n",
    "ax4.set_xlabel(\"Iteration\", fontsize=fontsize)\n",
    "ax4.set_ylabel(\"\")\n",
    "ax4.tick_params(labelsize=labelsize)\n",
    "\n",
    "# Finalize the plot\n",
    "sns.despine(bottom=True)\n",
    "plt.tight_layout(h_pad=2)\n",
    "\n",
    "sns.despine(left=True, bottom=True)\n",
    "\n",
    "fig = f.get_figure()\n",
    "# fig.savefig(\"../data/performance_dbpedia.png\")\n",
    "# fig.savefig(\"../data/performance_wikidata.png\")"
   ],
   "metadata": {
    "collapsed": false,
    "pycharm": {
     "name": "#%%\n"
    }
   }
  },
  {
   "cell_type": "markdown",
   "source": [
    "## Summary of all 10 iterations\n",
    "\n",
    "Total summary of all 10 iterations"
   ],
   "metadata": {
    "collapsed": false
   }
  },
  {
   "cell_type": "code",
   "execution_count": 4,
   "outputs": [],
   "source": [
    "df_dbpedia = pd.read_csv('../data/dbpedia_batch_1_10_55min_213_explicit_4168_implicit_stats.csv')\n",
    "df_wikidata = pd.read_csv('../data/wikidata_batch_1_10_1h2min_1161_explicit_2286_implicit_stats.csv')"
   ],
   "metadata": {
    "collapsed": false,
    "pycharm": {
     "name": "#%%\n"
    }
   }
  },
  {
   "cell_type": "code",
   "execution_count": 5,
   "outputs": [],
   "source": [
    "df_d = pd.DataFrame({\n",
    "    'total_triples': [df_dbpedia['total_visited_triples'].sum()],\n",
    "    'total_used_triples': [df_dbpedia['total_visited_triples'].sum() - df_dbpedia['total_removed_triples'].sum()],\n",
    "    'total_n_queries': [df_dbpedia['total_n_queries'].sum()],\n",
    "    'total_computation_time_minutes': [round(df_dbpedia['elapsed_time_s'].sum() / 60, 2)],\n",
    "    'total_processed_classes': [df_dbpedia['processed_explicit_classes'].sum()],\n",
    "    'total_expected_instances': [df_dbpedia['expected_num_instances'].sum()],\n",
    "    'total_actual_instances': [df_dbpedia['retrieved_num_instances'].sum()],\n",
    "    'total_num_patterns': [df_dbpedia['num_distinct_patterns'].sum()],\n",
    "    'total_explicit_class': [213], # a measure after deduplication right after obtaining all iterations, see \"Deduplication of nodes after running for 10 iterations\"\n",
    "    'total_implicit_class': [4168], # a measure after deduplication right after obtaining all iterations, see \"Deduplication of nodes after running for 10 iterations\"\n",
    "    'mean_dbcv': [round(df_dbpedia['validity_index'].mean(), 2)]\n",
    "}, index=['DBpedia']).transpose()"
   ],
   "metadata": {
    "collapsed": false,
    "pycharm": {
     "name": "#%%\n"
    }
   }
  },
  {
   "cell_type": "code",
   "execution_count": 6,
   "outputs": [],
   "source": [
    "df_w = pd.DataFrame({\n",
    "    'total_triples': [df_wikidata['total_visited_triples'].sum()],\n",
    "    'total_used_triples': [df_wikidata['total_visited_triples'].sum() - df_wikidata['total_removed_triples'].sum()],\n",
    "    'total_n_queries': [df_wikidata['total_n_queries'].sum()],\n",
    "    'total_computation_time_minutes': [round(df_wikidata['elapsed_time_s'].sum() / 60, 2)],\n",
    "    'total_processed_classes': [df_wikidata['processed_explicit_classes'].sum()],\n",
    "    'total_expected_instances': [df_wikidata['expected_num_instances'].sum()],\n",
    "    'total_actual_instances': [df_wikidata['retrieved_num_instances'].sum()],\n",
    "    'total_num_patterns': [df_wikidata['num_distinct_patterns'].sum()],\n",
    "    'total_explicit_class': [1161], # a measure after deduplication right after obtaining all iterations, see \"Deduplication of nodes after running for 10 iterations\"\n",
    "    'total_implicit_class': [2286], # a measure after deduplication right after obtaining all iterations, see \"Deduplication of nodes after running for 10 iterations\"\n",
    "    'mean_dbcv': [round(df_wikidata['validity_index'].mean(), 2)]\n",
    "}, index=['Wikidata']).transpose()"
   ],
   "metadata": {
    "collapsed": false,
    "pycharm": {
     "name": "#%%\n"
    }
   }
  },
  {
   "cell_type": "code",
   "execution_count": 7,
   "outputs": [
    {
     "data": {
      "text/plain": "                                   DBpedia    Wikidata\ntotal_triples                   3485027.00  5667473.00\ntotal_used_triples              3479228.00  5577431.00\ntotal_n_queries                     359.00      114.00\ntotal_computation_time_minutes       55.45       62.57\ntotal_processed_classes              73.00     1164.00\ntotal_expected_instances          17717.00    19596.00\ntotal_actual_instances            17762.00    19360.00\ntotal_num_patterns                13392.00     9186.00\ntotal_explicit_class                213.00     1161.00\ntotal_implicit_class               4168.00     2286.00\nmean_dbcv                             0.55        0.73",
      "text/html": "<div>\n<style scoped>\n    .dataframe tbody tr th:only-of-type {\n        vertical-align: middle;\n    }\n\n    .dataframe tbody tr th {\n        vertical-align: top;\n    }\n\n    .dataframe thead th {\n        text-align: right;\n    }\n</style>\n<table border=\"1\" class=\"dataframe\">\n  <thead>\n    <tr style=\"text-align: right;\">\n      <th></th>\n      <th>DBpedia</th>\n      <th>Wikidata</th>\n    </tr>\n  </thead>\n  <tbody>\n    <tr>\n      <th>total_triples</th>\n      <td>3485027.00</td>\n      <td>5667473.00</td>\n    </tr>\n    <tr>\n      <th>total_used_triples</th>\n      <td>3479228.00</td>\n      <td>5577431.00</td>\n    </tr>\n    <tr>\n      <th>total_n_queries</th>\n      <td>359.00</td>\n      <td>114.00</td>\n    </tr>\n    <tr>\n      <th>total_computation_time_minutes</th>\n      <td>55.45</td>\n      <td>62.57</td>\n    </tr>\n    <tr>\n      <th>total_processed_classes</th>\n      <td>73.00</td>\n      <td>1164.00</td>\n    </tr>\n    <tr>\n      <th>total_expected_instances</th>\n      <td>17717.00</td>\n      <td>19596.00</td>\n    </tr>\n    <tr>\n      <th>total_actual_instances</th>\n      <td>17762.00</td>\n      <td>19360.00</td>\n    </tr>\n    <tr>\n      <th>total_num_patterns</th>\n      <td>13392.00</td>\n      <td>9186.00</td>\n    </tr>\n    <tr>\n      <th>total_explicit_class</th>\n      <td>213.00</td>\n      <td>1161.00</td>\n    </tr>\n    <tr>\n      <th>total_implicit_class</th>\n      <td>4168.00</td>\n      <td>2286.00</td>\n    </tr>\n    <tr>\n      <th>mean_dbcv</th>\n      <td>0.55</td>\n      <td>0.73</td>\n    </tr>\n  </tbody>\n</table>\n</div>"
     },
     "execution_count": 7,
     "metadata": {},
     "output_type": "execute_result"
    }
   ],
   "source": [
    "pd.concat([df_d, df_w], axis=1)"
   ],
   "metadata": {
    "collapsed": false,
    "pycharm": {
     "name": "#%%\n"
    }
   }
  },
  {
   "cell_type": "code",
   "execution_count": null,
   "outputs": [],
   "source": [],
   "metadata": {
    "collapsed": false,
    "pycharm": {
     "name": "#%%\n"
    }
   }
  }
 ],
 "metadata": {
  "kernelspec": {
   "display_name": "Python 3",
   "language": "python",
   "name": "python3"
  },
  "language_info": {
   "codemirror_mode": {
    "name": "ipython",
    "version": 2
   },
   "file_extension": ".py",
   "mimetype": "text/x-python",
   "name": "python",
   "nbconvert_exporter": "python",
   "pygments_lexer": "ipython2",
   "version": "2.7.6"
  }
 },
 "nbformat": 4,
 "nbformat_minor": 0
}